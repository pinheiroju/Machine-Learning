{
 "cells": [
  {
   "cell_type": "markdown",
   "metadata": {
    "id": "_-sY19WhD0KO"
   },
   "source": [
    "# CS549-02 Machine Learning Spring 2024: Irfan Khan\n",
    "# Assignment 1: Python and numpy basics\n",
    "\n",
    "\n",
    "**Total: 10 points**\n",
    "\n",
    "In this assignment, you will gain practice in the use of Jupyter platform, write python code and utilize the numpy package. \n",
    "\n",
    "There are five cells below. Please add missing code in each cell and run the cells from top to bottom.\n",
    "\n",
    "Your output should be the same as the expected output.\n",
    "\n",
    "References: Python: https://docs.python.org/3/; numpy: https://numpy.org/doc/stable/"
   ]
  },
  {
   "cell_type": "markdown",
   "metadata": {},
   "source": [
    "## 1 (2 points): String Manipulation: \n",
    "\n",
    "Given a string, write a Python function to:\n",
    "\n",
    "1. Calculate the length of the string.\n",
    "2. Print the string in uppercase.\n",
    "3. Count the number of vowels in the string.\n",
    "4. Check if the string is a palindrome."
   ]
  },
  {
   "cell_type": "code",
   "execution_count": 1,
   "metadata": {},
   "outputs": [
    {
     "name": "stdout",
     "output_type": "stream",
     "text": [
      "Length: 6\n",
      "Uppercase String: PYTHON\n",
      "Number of Vowels: 1\n",
      "Is Palindrome: False\n",
      "Length: 7\n",
      "Uppercase String: ROTATOR\n",
      "Number of Vowels: 3\n",
      "Is Palindrome: True\n"
     ]
    }
   ],
   "source": [
    "def string_operations(input_string):\n",
    "    # Calculate length\n",
    "    \n",
    "    # Begin your Code\n",
    "    # Obtain length of string in variable \"length\"\n",
    "    length = len(input_str)\n",
    "    \n",
    "    # End your code\n",
    "\n",
    "    \n",
    "    # Print in uppercase\n",
    "    #Begin your code\n",
    "    #Use variable \"uppercase_string\" to hold the string in Upper Case\n",
    "    uppercase_string = input_str.upper()\n",
    "    \n",
    "    #End your code\n",
    "\n",
    "    # Count vowels\n",
    "    \n",
    "    #Begin your Code\n",
    "    #Use variable \"vowels\" to hold number of vowels\n",
    "    vowels = 0\n",
    "    for char in input_str:\n",
    "        if char in 'aeiouAEIOU':\n",
    "            vowels = vowels + 1\n",
    "            \n",
    "    #End your code\n",
    "    \n",
    "    # Check palindrome\n",
    "    #Begin your code\n",
    "    #Use boolean variable \"is_palindrome\"\n",
    "    is_palindrome = True\n",
    "    for i in range(length):\n",
    "        if(input_str[i] != input_str[length-i-1]):\n",
    "           is_palindrome = False \n",
    "    #End your code\n",
    "\n",
    "    return length, uppercase_string, vowels, is_palindrome\n",
    "\n",
    "# Example usage:\n",
    "input_str = \"python\"\n",
    "result = string_operations(input_str)\n",
    "print(\"Length:\", result[0])\n",
    "print(\"Uppercase String:\", result[1])\n",
    "print(\"Number of Vowels:\", result[2])\n",
    "print(\"Is Palindrome:\", result[3])\n",
    "input_str = \"rotator\"\n",
    "result = string_operations (input_str)\n",
    "print(\"Length:\", result[0])\n",
    "print(\"Uppercase String:\", result[1])\n",
    "print(\"Number of Vowels:\", result[2])\n",
    "print(\"Is Palindrome:\", result[3])"
   ]
  },
  {
   "cell_type": "markdown",
   "metadata": {},
   "source": [
    "### Expected Output\n",
    "\n",
    "Length: 6 <br>\n",
    "Uppercase String: PYTHON <br>\n",
    "Number of Vowels: 1 <br>\n",
    "Is Palindrome: False <br>\n",
    "Length: 7 <br>\n",
    "Uppercase String: ROTATOR <br>\n",
    "Number of Vowels: 3 <br>\n",
    "Is Palindrome: True"
   ]
  },
  {
   "cell_type": "markdown",
   "metadata": {},
   "source": [
    "## 2 (2 points) : List Operations\n",
    "\n",
    "Given a list of integers, write a Python function to:\n",
    "\n",
    "1. Calculate the sum of the list.\n",
    "2. Find the maximum and minimum values in the list.\n",
    "3. Create a new list containing only the even numbers from the original list."
   ]
  },
  {
   "cell_type": "code",
   "execution_count": 2,
   "metadata": {},
   "outputs": [
    {
     "name": "stdout",
     "output_type": "stream",
     "text": [
      "Sum: 39\n",
      "Max Value: 10\n",
      "Min Value: 1\n",
      "Even Numbers: [4, 2, 10, 6]\n"
     ]
    }
   ],
   "source": [
    "def list_operations(numbers):\n",
    "    # Calculate sum\n",
    "    \n",
    "    # Begin your code\n",
    "    #Store sum in \"list_sum\"\n",
    "    list_sum = 0\n",
    "    for i in range(len(numbers)):\n",
    "        list_sum = list_sum + numbers[i]\n",
    "   \n",
    "    # End your code\n",
    "    \n",
    "    # Find max and min\n",
    "    \n",
    "    # Begin your code\n",
    "    # Store max and min value in \"max_value\" and \"min_value\"\n",
    "    max_value = numbers[i]\n",
    "    min_value = numbers[i]\n",
    "    for i in range(len(numbers)):\n",
    "        if(max_value < numbers[i]):\n",
    "           max_value = numbers[i]\n",
    "        if(min_value > numbers[i]):\n",
    "            min_value = numbers[i]\n",
    "    \n",
    "    #End your code\n",
    "\n",
    "    # Extract even numbers\n",
    "    \n",
    "    #Begin your code\n",
    "    #Store list of even numbers in \"even_numbers\"\n",
    "    even_numbers = []\n",
    "    for i in range(len(numbers)):\n",
    "        if(numbers[i] % 2 == 0):\n",
    "            even_numbers.append(numbers[i])\n",
    "            \n",
    "            \n",
    "    return list_sum, max_value, min_value, even_numbers\n",
    "    #End your code\n",
    "\n",
    "# Example usage:\n",
    "numbers_list = [1, 4, 7, 2, 9, 10, 6]\n",
    "result = list_operations(numbers_list)\n",
    "print(\"Sum:\", result[0])\n",
    "print(\"Max Value:\", result[1])\n",
    "print(\"Min Value:\", result[2])\n",
    "print(\"Even Numbers:\", result[3])"
   ]
  },
  {
   "cell_type": "markdown",
   "metadata": {},
   "source": [
    "### Expected Output\n",
    "\n",
    "Sum: 39<br>\n",
    "Max Value: 10<br>\n",
    "Min Value: 1<br>\n",
    "Even Numbers: [4, 2, 10, 6]"
   ]
  },
  {
   "cell_type": "markdown",
   "metadata": {},
   "source": [
    "## NumPy use\n",
    "\n",
    "First import numpy"
   ]
  },
  {
   "cell_type": "code",
   "execution_count": 18,
   "metadata": {
    "id": "2Vswu_FAD0Kf"
   },
   "outputs": [],
   "source": [
    "import numpy as np"
   ]
  },
  {
   "cell_type": "markdown",
   "metadata": {
    "id": "BNgYph8AD0Kw"
   },
   "source": [
    "\n",
    "## 3 (2 points): Matrix Operations\n",
    "\n",
    "Create two matrices (3x3) and perform the following operations:\n",
    "\n",
    "Matrix addition.<br>\n",
    "Matrix multiplication.<br>\n",
    "Element-wise multiplication.<br>\n",
    "Transpose of the second matrix.<br>"
   ]
  },
  {
   "cell_type": "code",
   "execution_count": 3,
   "metadata": {
    "id": "3O_Lh6PdD0Kz",
    "outputId": "eb7a61e9-9dc1-43c4-b8cd-e851ea283083",
    "tags": []
   },
   "outputs": [
    {
     "name": "stdout",
     "output_type": "stream",
     "text": [
      "Matrix Addition:\n",
      "[[10 10 10]\n",
      " [10 10 10]\n",
      " [10 10 10]]\n",
      "\n",
      "Matrix Multiplication:\n",
      "[[ 30  24  18]\n",
      " [ 84  69  54]\n",
      " [138 114  90]]\n",
      "\n",
      "Element-wise Multiplication:\n",
      "[[ 9 16 21]\n",
      " [24 25 24]\n",
      " [21 16  9]]\n",
      "\n",
      "Transposed Matrix2:\n",
      "[[9 6 3]\n",
      " [8 5 2]\n",
      " [7 4 1]]\n"
     ]
    }
   ],
   "source": [
    "\n",
    "# Creating matrices\n",
    "#For consistency in assignment results, please don't change the below two matrices\n",
    "import numpy as np\n",
    "matrix1 = np.array([[1, 2, 3], [4, 5, 6], [7, 8, 9]])\n",
    "matrix2 = np.array([[9, 8, 7], [6, 5, 4], [3, 2, 1]])\n",
    "\n",
    "# Operations\n",
    "\n",
    "#start code store result in \"matrix_addition\"#\n",
    "\n",
    "matrix_addition = matrix1 + matrix2\n",
    "#end code#\n",
    "\n",
    "#start code store result in \"matrix_multiplication\"#\n",
    "#end code#\n",
    "matrix_multiplication = matrix1.dot(matrix2) \n",
    "    \n",
    "\n",
    "#start code store result in \"elementwise_multiplication\"#\n",
    "elementwise_multiplication = matrix1 * matrix2           \n",
    "#end code\n",
    "\n",
    "#start code transpose matrix2 and store result in \"transposed_matrix2\"#\n",
    "transposed_matrix2 = matrix2.transpose()\n",
    "#end code\n",
    "\n",
    "print(\"Matrix Addition:\")\n",
    "print(matrix_addition)\n",
    "\n",
    "print(\"\\nMatrix Multiplication:\")\n",
    "print(matrix_multiplication)\n",
    "\n",
    "print(\"\\nElement-wise Multiplication:\")\n",
    "print(elementwise_multiplication)\n",
    "\n",
    "print(\"\\nTransposed Matrix2:\")\n",
    "print(transposed_matrix2)"
   ]
  },
  {
   "cell_type": "markdown",
   "metadata": {
    "id": "VeioSTcxD0K2"
   },
   "source": [
    "### Expected output\n",
    "\n",
    "Matrix Addition:<br>\n",
    "[[10 10 10]<br>\n",
    " [10 10 10]<br>\n",
    " [10 10 10]]<br>\n",
    "\n",
    "Matrix Multiplication:<br>\n",
    "[[ 30  24  18]<br>\n",
    " [ 84  69  54]<br>\n",
    " [138 114  90]]<br>\n",
    "\n",
    "Element-wise Multiplication:<br>\n",
    "[[ 9 16 21]<br>\n",
    " [24 25 24]<br>\n",
    " [21 16  9]]<br>\n",
    "\n",
    "Transposed Matrix2:<br>\n",
    "[[9 6 3]<br>\n",
    " [8 5 2]<br>\n",
    " [7 4 1]]<br>\n"
   ]
  },
  {
   "cell_type": "markdown",
   "metadata": {},
   "source": [
    "## 4 (2 points): Data Analysis with NumPy\n",
    "\n",
    "Load the given dataset A1Data (you can use numpy.loadtxt or any other suitable method) and perform the following:\n",
    "\n",
    "Calculate the mean and standard deviation of each column.<br>\n",
    "Find the row with the maximum sum.<br>\n",
    "Normalize the dataset by subtracting the mean and dividing by the standard deviation for each column."
   ]
  },
  {
   "cell_type": "code",
   "execution_count": 5,
   "metadata": {
    "id": "h3C_4eFND0K6"
   },
   "outputs": [
    {
     "ename": "ValueError",
     "evalue": "could not convert string 'Unauthorized' to float64 at row 0, column 1.",
     "output_type": "error",
     "traceback": [
      "\u001b[0;31m---------------------------------------------------------------------------\u001b[0m",
      "\u001b[0;31mValueError\u001b[0m                                Traceback (most recent call last)",
      "\u001b[0;31mValueError\u001b[0m: could not convert string to float: 'Unauthorized'",
      "\nThe above exception was the direct cause of the following exception:\n",
      "\u001b[0;31mValueError\u001b[0m                                Traceback (most recent call last)",
      "Cell \u001b[0;32mIn[5], line 3\u001b[0m\n\u001b[1;32m      1\u001b[0m \u001b[38;5;66;03m# Load dataset\u001b[39;00m\n\u001b[0;32m----> 3\u001b[0m data \u001b[38;5;241m=\u001b[39m \u001b[43mnp\u001b[49m\u001b[38;5;241;43m.\u001b[39;49m\u001b[43mloadtxt\u001b[49m\u001b[43m(\u001b[49m\u001b[38;5;124;43m'\u001b[39;49m\u001b[38;5;124;43mA1data.txt\u001b[39;49m\u001b[38;5;124;43m'\u001b[39;49m\u001b[43m)\u001b[49m\n\u001b[1;32m      5\u001b[0m \u001b[38;5;66;03m# Operations. \u001b[39;00m\n\u001b[1;32m      6\u001b[0m \u001b[38;5;66;03m#Get column means in \"column_means\", column std deviation in \"column_stds\", \u001b[39;00m\n\u001b[1;32m      7\u001b[0m \u001b[38;5;66;03m#row with max sum in \"max_sum_row\" and normalized data =(data-column_means)/column_stds in \u001b[39;00m\n\u001b[1;32m      8\u001b[0m \u001b[38;5;66;03m#\"normalized_data\"\u001b[39;00m\n\u001b[1;32m      9\u001b[0m \n\u001b[1;32m     10\u001b[0m \u001b[38;5;66;03m#begin your code\u001b[39;00m\n\u001b[1;32m     12\u001b[0m column_means \u001b[38;5;241m=\u001b[39m np\u001b[38;5;241m.\u001b[39mmean(data, axis \u001b[38;5;241m=\u001b[39m \u001b[38;5;241m0\u001b[39m)\n",
      "File \u001b[0;32m/Library/Frameworks/Python.framework/Versions/3.12/lib/python3.12/site-packages/numpy/lib/npyio.py:1373\u001b[0m, in \u001b[0;36mloadtxt\u001b[0;34m(fname, dtype, comments, delimiter, converters, skiprows, usecols, unpack, ndmin, encoding, max_rows, quotechar, like)\u001b[0m\n\u001b[1;32m   1370\u001b[0m \u001b[38;5;28;01mif\u001b[39;00m \u001b[38;5;28misinstance\u001b[39m(delimiter, \u001b[38;5;28mbytes\u001b[39m):\n\u001b[1;32m   1371\u001b[0m     delimiter \u001b[38;5;241m=\u001b[39m delimiter\u001b[38;5;241m.\u001b[39mdecode(\u001b[38;5;124m'\u001b[39m\u001b[38;5;124mlatin1\u001b[39m\u001b[38;5;124m'\u001b[39m)\n\u001b[0;32m-> 1373\u001b[0m arr \u001b[38;5;241m=\u001b[39m \u001b[43m_read\u001b[49m\u001b[43m(\u001b[49m\u001b[43mfname\u001b[49m\u001b[43m,\u001b[49m\u001b[43m \u001b[49m\u001b[43mdtype\u001b[49m\u001b[38;5;241;43m=\u001b[39;49m\u001b[43mdtype\u001b[49m\u001b[43m,\u001b[49m\u001b[43m \u001b[49m\u001b[43mcomment\u001b[49m\u001b[38;5;241;43m=\u001b[39;49m\u001b[43mcomment\u001b[49m\u001b[43m,\u001b[49m\u001b[43m \u001b[49m\u001b[43mdelimiter\u001b[49m\u001b[38;5;241;43m=\u001b[39;49m\u001b[43mdelimiter\u001b[49m\u001b[43m,\u001b[49m\n\u001b[1;32m   1374\u001b[0m \u001b[43m            \u001b[49m\u001b[43mconverters\u001b[49m\u001b[38;5;241;43m=\u001b[39;49m\u001b[43mconverters\u001b[49m\u001b[43m,\u001b[49m\u001b[43m \u001b[49m\u001b[43mskiplines\u001b[49m\u001b[38;5;241;43m=\u001b[39;49m\u001b[43mskiprows\u001b[49m\u001b[43m,\u001b[49m\u001b[43m \u001b[49m\u001b[43musecols\u001b[49m\u001b[38;5;241;43m=\u001b[39;49m\u001b[43musecols\u001b[49m\u001b[43m,\u001b[49m\n\u001b[1;32m   1375\u001b[0m \u001b[43m            \u001b[49m\u001b[43munpack\u001b[49m\u001b[38;5;241;43m=\u001b[39;49m\u001b[43munpack\u001b[49m\u001b[43m,\u001b[49m\u001b[43m \u001b[49m\u001b[43mndmin\u001b[49m\u001b[38;5;241;43m=\u001b[39;49m\u001b[43mndmin\u001b[49m\u001b[43m,\u001b[49m\u001b[43m \u001b[49m\u001b[43mencoding\u001b[49m\u001b[38;5;241;43m=\u001b[39;49m\u001b[43mencoding\u001b[49m\u001b[43m,\u001b[49m\n\u001b[1;32m   1376\u001b[0m \u001b[43m            \u001b[49m\u001b[43mmax_rows\u001b[49m\u001b[38;5;241;43m=\u001b[39;49m\u001b[43mmax_rows\u001b[49m\u001b[43m,\u001b[49m\u001b[43m \u001b[49m\u001b[43mquote\u001b[49m\u001b[38;5;241;43m=\u001b[39;49m\u001b[43mquotechar\u001b[49m\u001b[43m)\u001b[49m\n\u001b[1;32m   1378\u001b[0m \u001b[38;5;28;01mreturn\u001b[39;00m arr\n",
      "File \u001b[0;32m/Library/Frameworks/Python.framework/Versions/3.12/lib/python3.12/site-packages/numpy/lib/npyio.py:1016\u001b[0m, in \u001b[0;36m_read\u001b[0;34m(fname, delimiter, comment, quote, imaginary_unit, usecols, skiplines, max_rows, converters, ndmin, unpack, dtype, encoding)\u001b[0m\n\u001b[1;32m   1013\u001b[0m     data \u001b[38;5;241m=\u001b[39m _preprocess_comments(data, comments, encoding)\n\u001b[1;32m   1015\u001b[0m \u001b[38;5;28;01mif\u001b[39;00m read_dtype_via_object_chunks \u001b[38;5;129;01mis\u001b[39;00m \u001b[38;5;28;01mNone\u001b[39;00m:\n\u001b[0;32m-> 1016\u001b[0m     arr \u001b[38;5;241m=\u001b[39m \u001b[43m_load_from_filelike\u001b[49m\u001b[43m(\u001b[49m\n\u001b[1;32m   1017\u001b[0m \u001b[43m        \u001b[49m\u001b[43mdata\u001b[49m\u001b[43m,\u001b[49m\u001b[43m \u001b[49m\u001b[43mdelimiter\u001b[49m\u001b[38;5;241;43m=\u001b[39;49m\u001b[43mdelimiter\u001b[49m\u001b[43m,\u001b[49m\u001b[43m \u001b[49m\u001b[43mcomment\u001b[49m\u001b[38;5;241;43m=\u001b[39;49m\u001b[43mcomment\u001b[49m\u001b[43m,\u001b[49m\u001b[43m \u001b[49m\u001b[43mquote\u001b[49m\u001b[38;5;241;43m=\u001b[39;49m\u001b[43mquote\u001b[49m\u001b[43m,\u001b[49m\n\u001b[1;32m   1018\u001b[0m \u001b[43m        \u001b[49m\u001b[43mimaginary_unit\u001b[49m\u001b[38;5;241;43m=\u001b[39;49m\u001b[43mimaginary_unit\u001b[49m\u001b[43m,\u001b[49m\n\u001b[1;32m   1019\u001b[0m \u001b[43m        \u001b[49m\u001b[43musecols\u001b[49m\u001b[38;5;241;43m=\u001b[39;49m\u001b[43musecols\u001b[49m\u001b[43m,\u001b[49m\u001b[43m \u001b[49m\u001b[43mskiplines\u001b[49m\u001b[38;5;241;43m=\u001b[39;49m\u001b[43mskiplines\u001b[49m\u001b[43m,\u001b[49m\u001b[43m \u001b[49m\u001b[43mmax_rows\u001b[49m\u001b[38;5;241;43m=\u001b[39;49m\u001b[43mmax_rows\u001b[49m\u001b[43m,\u001b[49m\n\u001b[1;32m   1020\u001b[0m \u001b[43m        \u001b[49m\u001b[43mconverters\u001b[49m\u001b[38;5;241;43m=\u001b[39;49m\u001b[43mconverters\u001b[49m\u001b[43m,\u001b[49m\u001b[43m \u001b[49m\u001b[43mdtype\u001b[49m\u001b[38;5;241;43m=\u001b[39;49m\u001b[43mdtype\u001b[49m\u001b[43m,\u001b[49m\n\u001b[1;32m   1021\u001b[0m \u001b[43m        \u001b[49m\u001b[43mencoding\u001b[49m\u001b[38;5;241;43m=\u001b[39;49m\u001b[43mencoding\u001b[49m\u001b[43m,\u001b[49m\u001b[43m \u001b[49m\u001b[43mfilelike\u001b[49m\u001b[38;5;241;43m=\u001b[39;49m\u001b[43mfilelike\u001b[49m\u001b[43m,\u001b[49m\n\u001b[1;32m   1022\u001b[0m \u001b[43m        \u001b[49m\u001b[43mbyte_converters\u001b[49m\u001b[38;5;241;43m=\u001b[39;49m\u001b[43mbyte_converters\u001b[49m\u001b[43m)\u001b[49m\n\u001b[1;32m   1024\u001b[0m \u001b[38;5;28;01melse\u001b[39;00m:\n\u001b[1;32m   1025\u001b[0m     \u001b[38;5;66;03m# This branch reads the file into chunks of object arrays and then\u001b[39;00m\n\u001b[1;32m   1026\u001b[0m     \u001b[38;5;66;03m# casts them to the desired actual dtype.  This ensures correct\u001b[39;00m\n\u001b[1;32m   1027\u001b[0m     \u001b[38;5;66;03m# string-length and datetime-unit discovery (like `arr.astype()`).\u001b[39;00m\n\u001b[1;32m   1028\u001b[0m     \u001b[38;5;66;03m# Due to chunking, certain error reports are less clear, currently.\u001b[39;00m\n\u001b[1;32m   1029\u001b[0m     \u001b[38;5;28;01mif\u001b[39;00m filelike:\n",
      "\u001b[0;31mValueError\u001b[0m: could not convert string 'Unauthorized' to float64 at row 0, column 1."
     ]
    }
   ],
   "source": [
    "# Load dataset\n",
    "\n",
    "data = np.loadtxt('A1data.txt')\n",
    "\n",
    "# Operations. \n",
    "#Get column means in \"column_means\", column std deviation in \"column_stds\", \n",
    "#row with max sum in \"max_sum_row\" and normalized data =(data-column_means)/column_stds in \n",
    "#\"normalized_data\"\n",
    "\n",
    "#begin your code\n",
    "\n",
    "column_means = np.mean(data)\n",
    "column_stds = np.std(data)\n",
    "max_sum_row = np.argmax(np.sum(data))\n",
    "normalized_data = (data-column_means)/column_stds\n",
    "\n",
    "#end your code\n",
    "print (\"data:\", data)\n",
    "\n",
    "print(\"Column Means:\")\n",
    "print(column_means)\n",
    "\n",
    "print(\"\\nColumn Standard Deviations:\")\n",
    "print(column_stds)\n",
    "\n",
    "print(\"\\nRow with Maximum Sum:\")\n",
    "print(data[max_sum_row])\n",
    "\n",
    "print(\"\\nNormalized Data:\")\n",
    "print(normalized_data)"
   ]
  },
  {
   "cell_type": "markdown",
   "metadata": {},
   "source": [
    "## Expected Result\n",
    "\n",
    "data: [[ 4.  5.  6.]<br>\n",
    " [ 3.  6.  8.]<br>\n",
    " [10.  3.  5.]<br>\n",
    " [11. 23.  7.]<br>\n",
    " [ 2. 45.  8.]<br>\n",
    " [ 1.  5.  9.]]<br>\n",
    "Column Means:<br>\n",
    "[ 5.16666667 14.5         7.16666667]<br>\n",
    "\n",
    "Column Standard Deviations:<br>\n",
    "[ 3.89087251 15.20690633  1.34370962]<br>\n",
    "\n",
    "Row with Maximum Sum:<br>\n",
    "[ 2. 45.  8.]<br>\n",
    "\n",
    "Normalized Data:\n",
    "[[-0.29984706 -0.62471615 -0.86824314]<br>\n",
    " [-0.55685882 -0.55895656  0.62017367]<br>\n",
    " [ 1.24222352 -0.75623534 -1.61245155]<br>\n",
    " [ 1.49923528  0.55895656 -0.12403473]<br>\n",
    " [-0.81387058  2.00566765  0.62017367]<br>\n",
    " [-1.07088234 -0.62471615  1.36438208]]"
   ]
  },
  {
   "cell_type": "markdown",
   "metadata": {
    "id": "Z0J7Mlf0D0K-"
   },
   "source": [
    "## 5 (2 points): Basic linear algebra in numpy\n",
    "**2 points**\n",
    "Use numpy linalg to solve simultaneous linear equations in 3 variables (x1,x2,x3)\n",
    "\n"
   ]
  },
  {
   "cell_type": "code",
   "execution_count": 32,
   "metadata": {},
   "outputs": [
    {
     "name": "stdout",
     "output_type": "stream",
     "text": [
      "x1 =  0.5000000000000001\n",
      "x2 =  0.4999999999999999\n",
      "x3 =  -1.9999999999999998\n"
     ]
    }
   ],
   "source": [
    "\n",
    "#Equation 1: -2 x1 - x3 = 1\n",
    "#Equation 2: -2 x2 - x3 = 1\n",
    "#Equation 3: 3 x1 + 3 x2 + x3 = 1\n",
    "\n",
    "#Start your code#\n",
    "#Return the solution to x1,x2,x3 in variable \"solution\"\n",
    "coeff = np.array([[-2, 0, -1],\n",
    "              [0, -2, -1],\n",
    "              [3, 3, 1]])\n",
    "\n",
    "const = np.array([1,1,1])\n",
    "\n",
    "solution = np.linalg.solve(coeff, const)\n",
    "#end your code\n",
    "\n",
    "print('x1 = ', solution[0])\n",
    "print('x2 = ', solution[1])\n",
    "print('x3 = ', solution[2])"
   ]
  },
  {
   "cell_type": "markdown",
   "metadata": {},
   "source": [
    "## Expected Output:\n",
    "x1 = 0.5<br>\n",
    "x2 = 0.5<br>\n",
    "x3 = -2.0"
   ]
  }
 ],
 "metadata": {
  "colab": {
   "name": "a1_solution.ipynb",
   "provenance": []
  },
  "kernelspec": {
   "display_name": "Python 3 (ipykernel)",
   "language": "python",
   "name": "python3"
  },
  "language_info": {
   "codemirror_mode": {
    "name": "ipython",
    "version": 3
   },
   "file_extension": ".py",
   "mimetype": "text/x-python",
   "name": "python",
   "nbconvert_exporter": "python",
   "pygments_lexer": "ipython3",
   "version": "3.12.1"
  }
 },
 "nbformat": 4,
 "nbformat_minor": 4
}
