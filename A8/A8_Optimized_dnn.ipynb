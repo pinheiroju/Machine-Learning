{
 "cells": [
  {
   "cell_type": "markdown",
   "metadata": {
    "collapsed": true
   },
   "source": [
    "# CS549 Machine Learning - Irfan Khan\n",
    "# Assignment 8: Applying NN to Assignment A3 problem and Optimization of Deep Neural Networks\n",
    "\n",
    "Updated from assignment designed by Yang Xu, Ex-Assistant Professor of Computer Science, San Diego State University\n",
    "\n",
    "**Total points: 20**\n",
    "\n",
    "There are two sections\n",
    "\n",
    "In this assignment, you will implement a multiple layer feed-forward neural network for a multi-class classification task."
   ]
  },
  {
   "cell_type": "markdown",
   "metadata": {},
   "source": [
    "## Section 1\n",
    "**Points: 5**\n",
    "\n",
    "In this section we will take the same example as in Assignment 3 (A3) but use a neural network instead of the legacy logistic reasoning model we used in assignment A3. We need to predict a student’s chance of admission in SDSU based on their results on two exams. The two exams are similar to MATH SAT and Verbal SAT exams\n",
    "\n",
    "We have historical data from previous students that we can use as a training set for the neural network logistic regression. For each training example, we have the student’s scores and the admissions decision.\n",
    "\n",
    "First recap the result from A3 assignment. We got a pretty good straight line decision boundary but a few datapoints are misclassified. Can we do any better with a Beural Network?<br> \n",
    "\n",
    "<img src='A8image1.png'>"
   ]
  },
  {
   "cell_type": "markdown",
   "metadata": {},
   "source": [
    "## Import Libraries"
   ]
  },
  {
   "cell_type": "code",
   "execution_count": 1,
   "metadata": {
    "pycharm": {
     "is_executing": true
    }
   },
   "outputs": [],
   "source": [
    "import numpy as np\n",
    "import pandas as pd\n",
    "import matplotlib.pyplot as plt\n",
    "import math\n",
    "import torch\n",
    "torch.manual_seed(0)\n",
    "torch.use_deterministic_algorithms(True)\n",
    "from torch import nn\n",
    "import torch.optim as optim\n",
    "from torch.utils.data import DataLoader\n",
    "from torchvision import datasets\n",
    "from torchvision.transforms import ToTensor"
   ]
  },
  {
   "cell_type": "markdown",
   "metadata": {},
   "source": [
    "## Load Data for Section 1"
   ]
  },
  {
   "cell_type": "markdown",
   "metadata": {},
   "source": [
    "## Define a Neural Network\n",
    "\n",
    "Let us define a neural network with one hidden layer with ReLU activation function"
   ]
  },
  {
   "cell_type": "code",
   "execution_count": 2,
   "metadata": {},
   "outputs": [],
   "source": [
    "class NeuralNetworkLR(nn.Module): \n",
    "    def __init__(self, input_size, hidden_size, output_size):\n",
    "        super().__init__()\n",
    "        self.linear1 = nn.Linear(input_size, hidden_size)\n",
    "        self.relu = nn.ReLU()\n",
    "        self.linear2 = nn.Linear(hidden_size, output_size)\n",
    "        \n",
    "    def forward(self, x):\n",
    "        x = self.linear1(x)\n",
    "        x = self.relu(x)\n",
    "        x = self.linear2(x)\n",
    "        return x"
   ]
  },
  {
   "cell_type": "markdown",
   "metadata": {},
   "source": [
    "## Pre-process the data\n",
    "\n",
    "See https://pytorch.org/docs/stable/data.html#torch.utils.data.DataLoader on data loader for more information.\n"
   ]
  },
  {
   "cell_type": "code",
   "execution_count": 3,
   "metadata": {},
   "outputs": [],
   "source": [
    "#Read Excel data using Pandas\n",
    "\n",
    "df = pd.read_excel('A3data.xlsx')\n",
    "features_df=df[['Exam1', 'Exam2']].to_numpy()\n",
    "\n",
    "# Separate the data into features and labels\n",
    "features_orig_i = torch.from_numpy(features_df)\n",
    "features_orig_f = features_orig_i.float()\n",
    "\n",
    "#normalize feature data\n",
    "avg_f=features_orig_f.mean(dim=0)\n",
    "std_f=features_orig_f.std(dim=0)\n",
    "features_norm = (features_orig_f-avg_f)/std_f\n",
    "\n",
    "#Load Labels data. No need to normalize since data is only 0 or 1\n",
    "\n",
    "labels_orig_i = torch.from_numpy(df['Admission Decision'].to_numpy())\n",
    "labels_orig_i = labels_orig_i.float()\n",
    "labels_orig_i = labels_orig_i.unsqueeze(1)\n",
    "\n",
    "#Get data ready for torch\n",
    "dataset = torch.utils.data.TensorDataset(features_norm, labels_orig_i)\n",
    "# Create a data loader\n",
    "data_loader = torch.utils.data.DataLoader(dataset, batch_size=100, shuffle=False)"
   ]
  },
  {
   "cell_type": "markdown",
   "metadata": {},
   "source": [
    "## Create the Neural Network Model\n",
    "\n",
    "***2 points***\n",
    "\n",
    "Define how many neurons in each layer (2,10,1), loss criterion and optimizer. nn.BCEWithLogitsLoss() is used for binary classification. We will use Adams and L2 regularization."
   ]
  },
  {
   "cell_type": "code",
   "execution_count": 6,
   "metadata": {},
   "outputs": [],
   "source": [
    "# Create the neural network, model_LR, (2,10,1), 2 inputs, 1 output, 1 hidden layer with 10 neurons\n",
    "#start your code \n",
    "# Create model_LR\n",
    "# Define the loss function and optimizer\n",
    "# Create model_LR\n",
    "model_LR = nn.Sequential(\n",
    "    nn.Linear(2, 10),\n",
    "    nn.ReLU(),\n",
    "    nn.Linear(10, 1)\n",
    ")\n",
    "\n",
    "# Define the loss function and optimizer\n",
    "criterion = nn.BCEWithLogitsLoss()\n",
    "optimizer = torch.optim.Adam(model_LR.parameters(), lr=0.001, weight_decay=0.01)\n",
    "\n",
    "\n",
    "#End your code"
   ]
  },
  {
   "cell_type": "markdown",
   "metadata": {},
   "source": [
    "## Train the Neural Network using back-propagation of gradients over 5000 Epochs\n",
    "\n",
    "**2 points**"
   ]
  },
  {
   "cell_type": "code",
   "execution_count": 8,
   "metadata": {},
   "outputs": [],
   "source": [
    "num_epochs = 5000\n",
    "for epoch in range(num_epochs):\n",
    "    # Zero the gradients\n",
    "    optimizer.zero_grad()\n",
    "    for i, (features_norm, labels_orig_i) in enumerate(data_loader):\n",
    "       #Start your code \n",
    "        # Forward pass\n",
    "        predictions = model_LR(features_norm)\n",
    "        loss = criterion(predictions, labels_orig_i)\n",
    "        # Backward pass\n",
    "        loss.backward()\n",
    "        optimizer.step()\n",
    "       \n",
    "        # Optimize the weights and bias\n",
    "        optimizer.step()\n",
    "        #End your code\n",
    "        "
   ]
  },
  {
   "cell_type": "markdown",
   "metadata": {},
   "source": [
    "## Predict Labels Using Trained Neural Network\n",
    "\n",
    "***1 point***\n",
    "\n",
    "Use features_norm as input. Don't use the labels. Store the predicted labels in a numpy array \"pred_np\""
   ]
  },
  {
   "cell_type": "code",
   "execution_count": 9,
   "metadata": {},
   "outputs": [],
   "source": [
    "pred=[]\n",
    "pred_logits=[]\n",
    "\n",
    "\n",
    "for i, (features_norm, labels_orig_i) in enumerate(data_loader):\n",
    "        \n",
    "    with torch.no_grad():  \n",
    "        #obtain predictions from trained model_LR\n",
    "        #start your code\n",
    "        predictions = model_LR(features_norm)\n",
    "        #end your code\n",
    "    \n",
    "    pred_logits = np.append(pred_logits,predictions.detach().numpy())\n",
    "\n",
    "pred = [1 if entry >= 0 else 0 for entry in pred_logits]\n",
    "pred_np=np.array(pred)\n",
    "\n"
   ]
  },
  {
   "cell_type": "markdown",
   "metadata": {},
   "source": [
    "## Plot a scatter plot of the data set with labels obtained from the Trained Neural Network"
   ]
  },
  {
   "cell_type": "code",
   "execution_count": 10,
   "metadata": {
    "scrolled": true
   },
   "outputs": [
    {
     "data": {
      "image/png": "[encoded data removed]",
      "text/plain": [
       "<Figure size 640x480 with 1 Axes>"
      ]
     },
     "metadata": {},
     "output_type": "display_data"
    }
   ],
   "source": [
    "# Define colors and labels based on pred values\n",
    "colors = np.where(pred_np == 0, 'black', 'green')\n",
    "labels = np.where(pred_np == 0, 'Not Admitted', 'Admitted')\n",
    "\n",
    "# Scatter plot with different colors based on pred\n",
    "plt.scatter(features_df[:,0], features_df[:,1], c=colors,marker='o')\n",
    "\n",
    "# Add labels and legend\n",
    "plt.xlabel('Exam1 Score')\n",
    "plt.ylabel('Exam2 Score')\n",
    "\n",
    "legend_labels = ['Not Admitted', 'Admitted']\n",
    "legend_markers = [plt.Line2D([0], [0], marker='o', color=color, label=label, markersize=10) for color, label in zip(['black', 'green'], legend_labels)]\n",
    "\n",
    "# Add the legend\n",
    "plt.legend(handles=legend_markers)\n",
    "\n",
    "plt.show()\n"
   ]
  },
  {
   "cell_type": "markdown",
   "metadata": {},
   "source": [
    "## Expected Result **\n",
    "\n",
    "<img src = 'A8image2.png'>\n",
    "\n",
    "Compare with the original scatter plot. Only one misclassification. So we have improved over the legacy logistic reasoning approach!<br>\n",
    "\n",
    "<img src='A8image1.png'>\n",
    "\n"
   ]
  },
  {
   "cell_type": "markdown",
   "metadata": {},
   "source": [
    "## Predict class for new data points ##\n",
    "\n",
    "Say (50,50),(35,99),(94,38),(80,80)"
   ]
  },
  {
   "cell_type": "code",
   "execution_count": 12,
   "metadata": {},
   "outputs": [
    {
     "name": "stdout",
     "output_type": "stream",
     "text": [
      "Predicted Classifications [0, 1, 1, 1]\n"
     ]
    }
   ],
   "source": [
    "new_features_np = np.array([[50., 50.],[35.,99.],[94.,38.],[80.,80.]])\n",
    "\n",
    "new_features_torch=torch.from_numpy(new_features_np).float()\n",
    "\n",
    "new_features_norm=(new_features_torch-avg_f)/std_f\n",
    "\n",
    "#print ('new_features_norm',new_features_norm)\n",
    "\n",
    "new_dataset = torch.utils.data.TensorDataset(new_features_norm)\n",
    "\n",
    "# Create a data loader\n",
    "new_data_loader = torch.utils.data.DataLoader(new_dataset, batch_size=4, shuffle=False)\n",
    "        # Forward pass \n",
    "new_feature_pred=[]\n",
    "new_pred_logits=[]\n",
    "#print('model', model)\n",
    "        \n",
    "for i,(new_features_norm) in enumerate(new_data_loader):\n",
    "        new_features_norm = new_features_norm[0]\n",
    "        # Forward pass\n",
    "        with torch.no_grad():\n",
    "            new_predictions = model_LR(new_features_norm)\n",
    "        new_pred_logits = np.append(new_pred_logits,new_predictions.detach().numpy())\n",
    "        \n",
    "#print('pred_logits_new', pred_logits_new)\n",
    "\n",
    "new_feature_pred = [1 if entry >= 0 else 0 for entry in new_pred_logits]\n",
    "print ('Predicted Classifications',new_feature_pred)"
   ]
  },
  {
   "cell_type": "markdown",
   "metadata": {},
   "source": [
    "## Expected Output\n",
    "Predicted Classifications [0 0 0 1]<br>\n",
    "Seems to make sense based on what the data sample scatter plot looks like! Neural network seems to have learnt that a very large score in Math1 will likely not lead to admittance if the Exam2 score is very low. Similarly seems to have learned that a very large score in Exam2 will likely not lead to admittance if the Exam1 score is very low"
   ]
  },
  {
   "cell_type": "markdown",
   "metadata": {},
   "source": [
    "## Section 2\n",
    "\n",
    "***Total Points 15***"
   ]
  },
  {
   "cell_type": "markdown",
   "metadata": {},
   "source": [
    "## Task 1: Build a deep neural network model\n",
    "**Points: 3**\n",
    "\n",
    "Implement the `NeuralNetModel1` class. The model takes a $28\\times 28$ grey-scale image as input, and passes it through a deep neural network.\n",
    "\n",
    "The network has 2 hidden layers and 1 output layers, whose sizes are: 512 -> 512 -> 10. That is, the number of output classes is 10. The activation function for each hidden layer is `ReLU`.\n",
    "\n",
    "The input image should first be passed through a `nn.Flatten()` layer so that a 2D tensor becomes 1D."
   ]
  },
  {
   "cell_type": "code",
   "execution_count": 13,
   "metadata": {},
   "outputs": [],
   "source": [
    "class NeuralNetModel1(nn.Module):\n",
    "    def __init__(self):\n",
    "        super(NeuralNetModel1, self).__init__()\n",
    "        ### START YOUR CODE ###\n",
    "        self.flatten = nn.Flatten()\n",
    "        self.fc1 = nn.Linear(28*28, 512)\n",
    "        self.relu1 = nn.ReLU()\n",
    "        self.fc2 = nn.Linear(512, 512)\n",
    "        self.relu2 = nn.ReLU()\n",
    "        self.fc3 = nn.Linear(512, 10)\n",
    "           \n",
    "        \n",
    "        ### END YOUR CODE ###\n",
    "\n",
    "    def forward(self, x):\n",
    "        ### START YOUR CODE ###\n",
    "        x = self.flatten(x)\n",
    "        x = self.fc1(x)\n",
    "        x = self.relu1(x)\n",
    "        x = self.fc2(x)\n",
    "        x = self.relu2(x)\n",
    "        logits = self.fc3(x)\n",
    "        ### END YOUR CODE ###\n",
    "        return logits"
   ]
  },
  {
   "cell_type": "code",
   "execution_count": 14,
   "metadata": {},
   "outputs": [
    {
     "name": "stdout",
     "output_type": "stream",
     "text": [
      "input size: torch.Size([5, 28, 28])\n",
      "output size: torch.Size([5, 10])\n"
     ]
    }
   ],
   "source": [
    "# Do not change the test code here\n",
    "sample_input = torch.randn(5, 28, 28)\n",
    "print('input size:', sample_input.size())\n",
    "\n",
    "model1 = NeuralNetModel1()\n",
    "with torch.no_grad():\n",
    "    output = model1(sample_input)\n",
    "print('output size:', output.size())"
   ]
  },
  {
   "cell_type": "markdown",
   "metadata": {},
   "source": [
    "**Expected output**:\n",
    "\n",
    "input size: torch.Size([5, 28, 28])\\\n",
    "output size: torch.Size([5, 10])\n",
    "\n",
    "---\n",
    "\n",
    "## Task 2: Use dataloader\n",
    "**Points: 1**\n",
    "\n",
    "Download the FashionMNIST dataset provided by PyTorch to the folder \"data\", which takes some time for the first time execution. The dataset is already downloaded and provided in the assignment zip folder on Canvas. The FashionMNIST dataset consists of a total of 60,000 examples for training and 10,000 examples for testing. Each example is a grayscale image of size 28x28 pixels and is associated with one of the following 10 classes:\n",
    "\n",
    "T-shirt/top\n",
    "Trouser\n",
    "Pullover\n",
    "Dress\n",
    "Coat\n",
    "Sandal\n",
    "Shirt\n",
    "Sneaker\n",
    "Bag\n",
    "Ankle boot\n",
    "\n",
    "The division is as follows:\n",
    "\n",
    "Training set: 60,000 examples\n",
    "Testing set: 10,000 examples\n",
    "\n",
    "Use the `DataLoader` module to wrap the loaded training and test data. Specify the `batch_size` to be 64 for both training and test dataloader. So for training we will have $60000/64 = \\lceil 937.5 \\rceil= 938$ batches and for testing we will have $10000/64 = \\lceil 156.25 \\rceil= 157$\n",
    "\n",
    "See <https://pytorch.org/docs/stable/data.html#torch.utils.data.DataLoader> for more information."
   ]
  },
  {
   "cell_type": "code",
   "execution_count": 15,
   "metadata": {},
   "outputs": [],
   "source": [
    "training_data = datasets.FashionMNIST(\n",
    "    root=\"data\",\n",
    "    train=True, # True\n",
    "    download=True,\n",
    "    transform=ToTensor()\n",
    ")\n",
    "\n",
    "test_data = datasets.FashionMNIST(\n",
    "    root=\"data\",\n",
    "    train=False, # False\n",
    "    download=True,\n",
    "    transform=ToTensor()\n",
    ")\n",
    "\n",
    "batch_size = 64\n",
    "\n",
    "### START YOUR CODE ###\n",
    "train_loader = DataLoader(training_data, batch_size=batch_size, shuffle=True)\n",
    "test_loader = DataLoader(test_data, batch_size=batch_size, shuffle=False)\n",
    "\n",
    "### END YOUR CODE ###"
   ]
  },
  {
   "cell_type": "code",
   "execution_count": 16,
   "metadata": {},
   "outputs": [
    {
     "name": "stdout",
     "output_type": "stream",
     "text": [
      "Training data size: 60000\n",
      "Testing data size: 10000\n",
      "No of Training Batches: 938\n",
      "No of Test Batches: 157\n",
      "X size: torch.Size([64, 1, 28, 28])\n",
      "y size: torch.Size([64])\n"
     ]
    }
   ],
   "source": [
    "# Do not change the test code here. \n",
    "print('Training data size:', len(training_data))\n",
    "print('Testing data size:', len(test_data))\n",
    "print('No of Training Batches:', len(train_loader)) \n",
    "print('No of Test Batches:', len(test_loader)) \n",
    "\n",
    "count = 0\n",
    "for batch in train_loader:\n",
    "    X, y = batch\n",
    "    print('X size:', X.size())\n",
    "    print('y size:', y.size())\n",
    "    count += 1\n",
    "    if count > 0:\n",
    "        break"
   ]
  },
  {
   "cell_type": "markdown",
   "metadata": {},
   "source": [
    "**Expected output**:\n",
    "\n",
    "Training data size: 60000\\\n",
    "Testing data size: 10000\\\n",
    "X size: torch.Size([64, 1, 28, 28])\\\n",
    "y size: torch.Size([64])"
   ]
  },
  {
   "cell_type": "markdown",
   "metadata": {},
   "source": [
    "## Task 3: Define loss and optimizer\n",
    "**Points: 1**\n",
    "\n",
    "Use `nn.CrossEntropyLoss()` as the loss function, and use `torch.optim.SGD()` as the optimizer. Specify the arguments for `SGD()`, including the learning rate correctly.\n",
    "\n",
    "See <https://pytorch.org/docs/stable/generated/torch.nn.CrossEntropyLoss.html> and <https://pytorch.org/docs/stable/optim.html> for more information."
   ]
  },
  {
   "cell_type": "code",
   "execution_count": 17,
   "metadata": {},
   "outputs": [],
   "source": [
    "learning_rate = 1e-3\n",
    "\n",
    "### START YOUR CODE ###\n",
    "loss_fn = nn.CrossEntropyLoss()\n",
    "optimizer_sgd = torch.optim.SGD(model1.parameters(), lr=learning_rate)\n",
    "\n",
    "### END YOUR CODE ###"
   ]
  },
  {
   "cell_type": "code",
   "execution_count": 18,
   "metadata": {},
   "outputs": [
    {
     "name": "stdout",
     "output_type": "stream",
     "text": [
      "CrossEntropyLoss()\n",
      "<class 'torch.optim.sgd.SGD'>\n"
     ]
    }
   ],
   "source": [
    "# Do not change the test code here\n",
    "print(loss_fn)\n",
    "print(type(optimizer_sgd))"
   ]
  },
  {
   "cell_type": "markdown",
   "metadata": {},
   "source": [
    "**Expected output**:\n",
    "\n",
    "CrossEntropyLoss()<br>\n",
    "<class 'torch.optim.sgd.SGD'>\n",
    "\n",
    "---\n",
    "\n",
    "## Task 4: Implement train and test functions\n",
    "**Points: 6**\n",
    "\n",
    "Implement the code for training the model in `train()`. Implement the code for testing the model in `test()`. For the backpropagation step, you need to first zero out all gradients by calling `optimizer.zero_grad()` before carrying out `backward()` and `step()` to update parameters.\n",
    "\n",
    "In `test()`, you need to calculate the number of correct prediction in the current batch, and add it to the `correct` variable.\n",
    "Finally, you need to divide `correct` by the total number of test examples to obtain the test accuracy."
   ]
  },
  {
   "cell_type": "code",
   "execution_count": 19,
   "metadata": {},
   "outputs": [],
   "source": [
    "def train_loop(dataloader, model, loss_fn, optimizer, verbose=True):\n",
    "    for i, (X, y) in enumerate(dataloader):\n",
    "        # Compute prediction and loss\n",
    "        ### START YOUR CODE ###\n",
    "        predictions = model(X)\n",
    "        loss = loss_fn(predictions, y)\n",
    "        ### END YOUR CODE ###\n",
    "\n",
    "        # Backpropagation\n",
    "        ### START YOUR CODE ###\n",
    "        optimizer.zero_grad()\n",
    "        loss.backward()\n",
    "        optimizer.step()\n",
    "        ### END YOUR CODE ###\n",
    "\n",
    "        if verbose and i % 100 == 0:\n",
    "            loss = loss.item()\n",
    "            current_step = i * len(X)\n",
    "            print(f\"loss: {loss:>7f}  [{current_step:>5d}/{len(dataloader.dataset):>5d}]\")"
   ]
  },
  {
   "cell_type": "code",
   "execution_count": 53,
   "metadata": {},
   "outputs": [],
   "source": [
    "@torch.no_grad()# since we dont want gradients updated\n",
    "def test_loop(dataloader, model, loss_fn):\n",
    "    test_loss, correct = 0, 0\n",
    "\n",
    "    for X, y in dataloader:\n",
    "        ### START YOUR CODE ###\n",
    "        predictions = model(X)\n",
    "        test_loss += loss_fn(predictions, y).item()\n",
    "        # Add the number of correct prediction in the current batch to correct\n",
    "        correct += (predictions.argmax(1) == y).type(torch.float).sum().item()\n",
    "        ### END YOUR CODE ###\n",
    "\n",
    "    test_loss /= len(dataloader)\n",
    "    ### START YOUR CODE ###\n",
    "    test_acc = correct / len(dataloader.dataset)\n",
    "    ### END YOUR CODE ###\n",
    "\n",
    "    print(f\"Test Error: \\n Accuracy: {(100*test_acc):>0.1f}%, Avg loss: {test_loss:>8f} \\n\")"
   ]
  },
  {
   "cell_type": "markdown",
   "metadata": {},
   "source": [
    "Next, execute the following cell to start the training and testing loop. Make sure that the cell containing the loss function and optimizers has already been executed."
   ]
  },
  {
   "cell_type": "code",
   "execution_count": 54,
   "metadata": {},
   "outputs": [
    {
     "name": "stdout",
     "output_type": "stream",
     "text": [
      "Epoch 1\n",
      "-------------------------------\n",
      "Test Error: \n",
      " Accuracy: 7.6%, Avg loss: 2.300207 \n",
      "\n",
      "Epoch 2\n",
      "-------------------------------\n",
      "Test Error: \n",
      " Accuracy: 7.6%, Avg loss: 2.300207 \n",
      "\n",
      "Epoch 3\n",
      "-------------------------------\n",
      "Test Error: \n",
      " Accuracy: 7.6%, Avg loss: 2.300207 \n",
      "\n",
      "Epoch 4\n",
      "-------------------------------\n",
      "Test Error: \n",
      " Accuracy: 7.6%, Avg loss: 2.300207 \n",
      "\n",
      "Epoch 5\n",
      "-------------------------------\n",
      "Test Error: \n",
      " Accuracy: 7.6%, Avg loss: 2.300207 \n",
      "\n",
      "Epoch 6\n",
      "-------------------------------\n",
      "Test Error: \n",
      " Accuracy: 7.6%, Avg loss: 2.300207 \n",
      "\n",
      "Epoch 7\n",
      "-------------------------------\n",
      "Test Error: \n",
      " Accuracy: 7.6%, Avg loss: 2.300207 \n",
      "\n",
      "Epoch 8\n",
      "-------------------------------\n",
      "Test Error: \n",
      " Accuracy: 7.6%, Avg loss: 2.300207 \n",
      "\n",
      "Epoch 9\n",
      "-------------------------------\n",
      "Test Error: \n",
      " Accuracy: 7.6%, Avg loss: 2.300207 \n",
      "\n",
      "Epoch 10\n",
      "-------------------------------\n",
      "Test Error: \n",
      " Accuracy: 7.6%, Avg loss: 2.300207 \n",
      "\n",
      "Done!\n"
     ]
    }
   ],
   "source": [
    "model1 = NeuralNetModel1() # Reset the model\n",
    "### START YOUR CODE ###\n",
    "model1.train()\n",
    "\n",
    "### END YOUR CODE ###\n",
    "\n",
    "epochs = 10\n",
    "for t in range(epochs):\n",
    "    print(f\"Epoch {t+1}\\n-------------------------------\")\n",
    "    ### START YOUR CODE ###\n",
    "    train_loop(train_loader, model1, loss_fn, optimizer_sgd, verbose=False)\n",
    "    test_loop(test_loader, model1, loss_fn)\n",
    "    ### END YOUR CODE ###\n",
    "\n",
    "print(\"Done!\")"
   ]
  },
  {
   "cell_type": "markdown",
   "metadata": {},
   "source": [
    "**Expected output**\n",
    "\n",
    "The test accuracy from the last epoch should be above 70%.\n",
    "\n",
    "---\n",
    "\n",
    "Next, train an ADAM optimizer. Note that the model needs be reset. Don't specify hyper-parameter values for beta1 and beta2. Default values (0.9, 0.999) will get used."
   ]
  },
  {
   "cell_type": "code",
   "execution_count": 55,
   "metadata": {},
   "outputs": [
    {
     "name": "stdout",
     "output_type": "stream",
     "text": [
      "Epoch 1\n",
      "-------------------------------\n",
      "Test Error: \n",
      " Accuracy: 83.8%, Avg loss: 0.437152 \n",
      "\n",
      "Epoch 2\n",
      "-------------------------------\n",
      "Test Error: \n",
      " Accuracy: 86.2%, Avg loss: 0.383439 \n",
      "\n",
      "Epoch 3\n",
      "-------------------------------\n",
      "Test Error: \n",
      " Accuracy: 86.9%, Avg loss: 0.359631 \n",
      "\n",
      "Epoch 4\n",
      "-------------------------------\n",
      "Test Error: \n",
      " Accuracy: 87.4%, Avg loss: 0.342231 \n",
      "\n",
      "Epoch 5\n",
      "-------------------------------\n",
      "Test Error: \n",
      " Accuracy: 88.2%, Avg loss: 0.325243 \n",
      "\n",
      "Epoch 6\n",
      "-------------------------------\n",
      "Test Error: \n",
      " Accuracy: 88.1%, Avg loss: 0.337774 \n",
      "\n",
      "Epoch 7\n",
      "-------------------------------\n",
      "Test Error: \n",
      " Accuracy: 88.0%, Avg loss: 0.338464 \n",
      "\n",
      "Epoch 8\n",
      "-------------------------------\n",
      "Test Error: \n",
      " Accuracy: 88.1%, Avg loss: 0.347163 \n",
      "\n",
      "Epoch 9\n",
      "-------------------------------\n",
      "Test Error: \n",
      " Accuracy: 88.2%, Avg loss: 0.333194 \n",
      "\n",
      "Epoch 10\n",
      "-------------------------------\n",
      "Test Error: \n",
      " Accuracy: 88.0%, Avg loss: 0.366324 \n",
      "\n",
      "Done!\n"
     ]
    }
   ],
   "source": [
    "model1 = NeuralNetModel1() # Reset the model\n",
    "\n",
    "### START YOUR CODE ###\n",
    "model1_optimizer = torch.optim.Adam(model1.parameters())\n",
    "\n",
    "### END YOUR CODE ###\n",
    "\n",
    "epochs = 10\n",
    "for t in range(epochs):\n",
    "    print(f\"Epoch {t+1}\\n-------------------------------\")\n",
    "    ### START YOUR CODE ###\n",
    "    train_loop(train_loader, model1, loss_fn, model1_optimizer, verbose=False)\n",
    "    test_loop(test_loader, model1, loss_fn)\n",
    "    ### END YOUR CODE ###\n",
    "\n",
    "print(\"Done!\")"
   ]
  },
  {
   "cell_type": "markdown",
   "metadata": {},
   "source": [
    "**Expected output**:\n",
    "\n",
    "You can find that the training converges much faster using ADAM.\n",
    "\n",
    "---\n",
    "\n",
    "## Task 5: Add batchnorm and dropout\n",
    "**Points: 4**\n",
    "\n",
    "Use `torch.nn.BatchNorm1d()` and `nn.Dropout()` after the ReLU activation of each hidden layer. `Batchnorm1d()` takes the size of previous activation as input. `Dropout()` takes the probability of dropout as input.\n",
    "\n",
    "For more information, see <https://pytorch.org/docs/stable/generated/torch.nn.BatchNorm1d.html> and <https://pytorch.org/docs/stable/generated/torch.nn.Dropout.html>."
   ]
  },
  {
   "cell_type": "code",
   "execution_count": 56,
   "metadata": {},
   "outputs": [],
   "source": [
    "class NeuralNetModel2(nn.Module):\n",
    "    def __init__(self, dropout = 0.1): # Note the additional dropout parameter here\n",
    "        \"\"\"\n",
    "        :param dropout: float, the probability of dropout\n",
    "        \"\"\"\n",
    "        super(NeuralNetModel2, self).__init__()\n",
    "        ### START YOUR CODE ###\n",
    "        self.fc1 = nn.Linear(sample_input.size, sample_input.hidden_size)\n",
    "        self.relu1 = nn.ReLU()\n",
    "        self.bn1 = nn.BatchNorm1d(sample_input.hidden_size)\n",
    "        self.dropout1 = nn.Dropout(dropout)\n",
    "        self.fc2 = nn.Linear(sample_input.hidden_size, output.size())\n",
    "        ### END YOUR CODE ###\n",
    "\n",
    "    def forward(self, x):\n",
    "        ### START YOUR CODE ###\n",
    "        logits = self.fc2(self.dropout1(self.bn1(self.relu1(self.fc1(x)))))\n",
    "        ### END YOUR CODE ###\n",
    "        return logits"
   ]
  },
  {
   "cell_type": "markdown",
   "metadata": {},
   "source": [
    "In the following cell, test with different `dropout` rates, and observe how that affects the test accuracy."
   ]
  },
  {
   "cell_type": "code",
   "execution_count": 63,
   "metadata": {},
   "outputs": [
    {
     "name": "stdout",
     "output_type": "stream",
     "text": [
      "Epoch 1\n",
      "-------------------------------\n",
      "Test Error: \n",
      " Accuracy: 17.5%, Avg loss: 2.300458 \n",
      "\n",
      "Test Error: \n",
      " Accuracy: 17.5%, Avg loss: 2.300458 \n",
      "\n",
      "Test Error: \n",
      " Accuracy: 17.5%, Avg loss: 2.300458 \n",
      "\n",
      "Test Error: \n",
      " Accuracy: 17.5%, Avg loss: 2.300458 \n",
      "\n",
      "Test Error: \n",
      " Accuracy: 17.5%, Avg loss: 2.300458 \n",
      "\n",
      "Epoch 2\n",
      "-------------------------------\n",
      "Test Error: \n",
      " Accuracy: 17.5%, Avg loss: 2.300458 \n",
      "\n",
      "Test Error: \n",
      " Accuracy: 17.5%, Avg loss: 2.300458 \n",
      "\n",
      "Test Error: \n",
      " Accuracy: 17.5%, Avg loss: 2.300458 \n",
      "\n",
      "Test Error: \n",
      " Accuracy: 17.5%, Avg loss: 2.300458 \n",
      "\n",
      "Test Error: \n",
      " Accuracy: 17.5%, Avg loss: 2.300458 \n",
      "\n",
      "Epoch 3\n",
      "-------------------------------\n",
      "Test Error: \n",
      " Accuracy: 17.5%, Avg loss: 2.300458 \n",
      "\n",
      "Test Error: \n",
      " Accuracy: 17.5%, Avg loss: 2.300458 \n",
      "\n",
      "Test Error: \n",
      " Accuracy: 17.5%, Avg loss: 2.300458 \n",
      "\n",
      "Test Error: \n",
      " Accuracy: 17.5%, Avg loss: 2.300458 \n",
      "\n",
      "Test Error: \n",
      " Accuracy: 17.5%, Avg loss: 2.300458 \n",
      "\n",
      "Epoch 4\n",
      "-------------------------------\n",
      "Test Error: \n",
      " Accuracy: 17.5%, Avg loss: 2.300458 \n",
      "\n",
      "Test Error: \n",
      " Accuracy: 17.5%, Avg loss: 2.300458 \n",
      "\n",
      "Test Error: \n",
      " Accuracy: 17.5%, Avg loss: 2.300458 \n",
      "\n",
      "Test Error: \n",
      " Accuracy: 17.5%, Avg loss: 2.300458 \n",
      "\n",
      "Test Error: \n",
      " Accuracy: 17.5%, Avg loss: 2.300458 \n",
      "\n",
      "Epoch 5\n",
      "-------------------------------\n",
      "Test Error: \n",
      " Accuracy: 17.5%, Avg loss: 2.300458 \n",
      "\n",
      "Test Error: \n",
      " Accuracy: 17.5%, Avg loss: 2.300458 \n",
      "\n",
      "Test Error: \n",
      " Accuracy: 17.5%, Avg loss: 2.300458 \n",
      "\n",
      "Test Error: \n",
      " Accuracy: 17.5%, Avg loss: 2.300458 \n",
      "\n",
      "Test Error: \n",
      " Accuracy: 17.5%, Avg loss: 2.300458 \n",
      "\n",
      "Epoch 6\n",
      "-------------------------------\n",
      "Test Error: \n",
      " Accuracy: 17.5%, Avg loss: 2.300458 \n",
      "\n",
      "Test Error: \n",
      " Accuracy: 17.5%, Avg loss: 2.300458 \n",
      "\n",
      "Test Error: \n",
      " Accuracy: 17.5%, Avg loss: 2.300458 \n",
      "\n",
      "Test Error: \n",
      " Accuracy: 17.5%, Avg loss: 2.300458 \n",
      "\n",
      "Test Error: \n",
      " Accuracy: 17.5%, Avg loss: 2.300458 \n",
      "\n",
      "Epoch 7\n",
      "-------------------------------\n",
      "Test Error: \n",
      " Accuracy: 17.5%, Avg loss: 2.300458 \n",
      "\n",
      "Test Error: \n",
      " Accuracy: 17.5%, Avg loss: 2.300458 \n",
      "\n",
      "Test Error: \n",
      " Accuracy: 17.5%, Avg loss: 2.300458 \n",
      "\n",
      "Test Error: \n",
      " Accuracy: 17.5%, Avg loss: 2.300458 \n",
      "\n",
      "Test Error: \n",
      " Accuracy: 17.5%, Avg loss: 2.300458 \n",
      "\n",
      "Epoch 8\n",
      "-------------------------------\n",
      "Test Error: \n",
      " Accuracy: 17.5%, Avg loss: 2.300458 \n",
      "\n",
      "Test Error: \n",
      " Accuracy: 17.5%, Avg loss: 2.300458 \n",
      "\n",
      "Test Error: \n",
      " Accuracy: 17.5%, Avg loss: 2.300458 \n",
      "\n",
      "Test Error: \n",
      " Accuracy: 17.5%, Avg loss: 2.300458 \n",
      "\n",
      "Test Error: \n",
      " Accuracy: 17.5%, Avg loss: 2.300458 \n",
      "\n",
      "Epoch 9\n",
      "-------------------------------\n",
      "Test Error: \n",
      " Accuracy: 17.5%, Avg loss: 2.300458 \n",
      "\n",
      "Test Error: \n",
      " Accuracy: 17.5%, Avg loss: 2.300458 \n",
      "\n",
      "Test Error: \n",
      " Accuracy: 17.5%, Avg loss: 2.300458 \n",
      "\n",
      "Test Error: \n",
      " Accuracy: 17.5%, Avg loss: 2.300458 \n",
      "\n",
      "Test Error: \n",
      " Accuracy: 17.5%, Avg loss: 2.300458 \n",
      "\n",
      "Epoch 10\n",
      "-------------------------------\n",
      "Test Error: \n",
      " Accuracy: 17.5%, Avg loss: 2.300458 \n",
      "\n",
      "Test Error: \n",
      " Accuracy: 17.5%, Avg loss: 2.300458 \n",
      "\n",
      "Test Error: \n",
      " Accuracy: 17.5%, Avg loss: 2.300458 \n",
      "\n",
      "Test Error: \n",
      " Accuracy: 17.5%, Avg loss: 2.300458 \n",
      "\n",
      "Test Error: \n",
      " Accuracy: 17.5%, Avg loss: 2.300458 \n",
      "\n",
      "Done!\n"
     ]
    }
   ],
   "source": [
    "### START YOUR CODE ###\n",
    "for dropout_rate in [0.8, 0.2, 0.3, 0.4, 0.5]:\n",
    "    model = NeuralNetModel1()\n",
    "    model.train()\n",
    "### END YOUR CODE ###\n",
    "\n",
    "epochs = 10\n",
    "for t in range(epochs):\n",
    "    print(f\"Epoch {t+1}\\n-------------------------------\")\n",
    "    ### START YOUR CODE ###\n",
    "    for i in range(5):\n",
    "        train_loop(train_loader, model, loss_fn, optimizer_sgd, verbose=False)\n",
    "        test_loop(test_loader, model, loss_fn)\n",
    "    ### END YOUR CODE ###\n",
    "\n",
    "print(\"Done!\")"
   ]
  },
  {
   "cell_type": "markdown",
   "metadata": {},
   "source": [
    "**Expected output**\n",
    "\n",
    "In theory, you should see that the larger dropout rate you use, the lower test accuracy you will get, at the same epoch number.\n",
    "\n",
    "But the model trained with some dropout rate should generalize better to new data."
   ]
  }
 ],
 "metadata": {
  "kernelspec": {
   "display_name": "Python 3 (ipykernel)",
   "language": "python",
   "name": "python3"
  },
  "language_info": {
   "codemirror_mode": {
    "name": "ipython",
    "version": 3
   },
   "file_extension": ".py",
   "mimetype": "text/x-python",
   "name": "python",
   "nbconvert_exporter": "python",
   "pygments_lexer": "ipython3",
   "version": "3.11.5"
  }
 },
 "nbformat": 4,
 "nbformat_minor": 1
}
