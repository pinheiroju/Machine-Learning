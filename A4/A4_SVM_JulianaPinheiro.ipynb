{
 "cells": [
  {
   "cell_type": "markdown",
   "metadata": {},
   "source": [
    "# CS549-02 Machine Learning: Irfan Khan \n",
    "\n",
    "# Assignment 4: Support vector machine (SVM) model\n",
    "\n",
    "### Total: 10 points\n",
    "\n",
    "In this assignment, we will build a \"toy\" SVM model using a mini dataset step by step.\n",
    "\n",
    "Your goal is to run all the cells below one by one from top to bottom. Before you run some task cells, you need to complete the missing lines (notified by \"= None\" in Python) in them. \n",
    "\n",
    "For each **task** cell that requires your completion, you can run the **evaluation** cell right after it to check if your answer correct.\n",
    "The output of the evaluation cell should be the same as the \"expected output\" provided. (Some mismatch in the last digit of floating numbers is tolerable)\n",
    "\n",
    "---\n",
    "# Install dependencies\n",
    "\n",
    "**cvxopt** is a Python package for solving optimization problems including quadratic programming problems. You can install it using the following command:\n",
    "```\n",
    "conda install -c conda-forge cvxopt\n",
    "```"
   ]
  },
  {
   "cell_type": "code",
   "execution_count": 3,
   "metadata": {},
   "outputs": [],
   "source": [
    "\n",
    "#import libraries\n",
    "import numpy as np\n",
    "import matplotlib.pyplot as plt\n",
    "import cvxopt\n",
    "from cvxopt import matrix, solvers\n",
    "\n",
    "\n",
    "# Toy data\n",
    "X = np.array([\n",
    "    [0, 0],\n",
    "    [2, 0],\n",
    "    [0, 2],\n",
    "    [3, 3],\n",
    "    [4, 4]\n",
    "])\n",
    "Y = np.array([-1, -1, -1, 1, 1],dtype=np.float64)"
   ]
  },
  {
   "cell_type": "markdown",
   "metadata": {},
   "source": [
    "---\n",
    "\n",
    "# Task\n",
    "We want to build an SVM model on the toy dataset: \n",
    "\n",
    "\\begin{equation}\n",
    "    x^{(1)} = (0,0),\\ y^{(1)}=-1\\\\\n",
    "    x^{(2)} = (2,0),\\ y^{(2)}=-1\\\\\n",
    "    x^{(3)} = (0,2),\\ y^{(3)}=-1\\\\\n",
    "    x^{(4)} = (3,3),\\ y^{(4)}=1\\\\\n",
    "    x^{(5)} = (4,4),\\ y^{(5)}=1\\\\\n",
    "\\end{equation}\n",
    "\n",
    "We need to solve the quadratic programming (QP) problem as the following form:\n",
    "\n",
    "\\begin{equation}\n",
    "    \\min_{\\alpha}\\big( \\frac{1}{2}\\lambda^{T}Q\\lambda - (\\textbf{1})^{T}\\lambda \\big) \\\\\n",
    "    \\text{subject to: } y^{T}\\lambda=0,\\ \\lambda\\geq 0\n",
    "\\end{equation}\n",
    "\n",
    "The quadratic programming optimization function, solvers, in cvxopt solves the QP in this form:\n",
    "\n",
    "\\begin{equation}\n",
    "    \\min_{x}\\big( \\frac{1}{2}x^{T}Px + q^{T}x \\big) \\\\\n",
    "    \\text{subject to: } Gx\\leq h,\\ Ax = b\n",
    "\\end{equation}\n",
    "\n",
    "Therefore, in order to use solvers, we need to establish the responding relationships between variables: \n",
    "$P=Q$, $q = -(\\textbf{1})^{T}$, $G = -(\\textbf{1})^{T}$, $h=(\\textbf{0})^{T}$, $A=y^T$, $b=(\\textbf{0})^{T}$\n",
    "\n",
    "\n",
    "\n",
    "---\n",
    "## Task 1: Compute matrix $Q$\n",
    "\n",
    "**2 points**\n",
    "\n",
    "First, we need to use $x^{(i)}$ and $y^{(i)}$ to compute matrix $Q$:\n",
    "\n",
    "\\begin{equation}\n",
    "    Q = \\begin{bmatrix}\n",
    "    y^{(1)}y^{(1)}x^{(1)T}x^{(1)} & y^{(1)}y^{(2)}x^{(1)T}x^{(2)} & \\dots & y^{(1)}y^{(5)}x^{(1)T}x^{(5)} \\\\\n",
    "    y^{(2)}y^{(1)}x^{(2)T}x^{(1)} & y^{(2)}y^{(2)}x^{(2)T}x^{(2)} & \\dots & y^{(2)}y^{(5)}x^{(2)T}x^{(5)} \\\\\n",
    "    \\vdots & \\vdots & \\ddots & \\vdots \\\\\n",
    "    y^{(5)}y^{(1)}x^{(5)T}x^{(1)} & y^{(5)}y^{(2)}x^{(5)T}x^{(2)} & \\dots & y^{(5)}y^{(5)}x^{(5)T}x^{(5)} \\\\\n",
    "    \\end{bmatrix}\n",
    "\\end{equation}\n"
   ]
  },
  {
   "cell_type": "code",
   "execution_count": 4,
   "metadata": {},
   "outputs": [
    {
     "name": "stdout",
     "output_type": "stream",
     "text": [
      "Q =  [[ 0.  0.  0. -0. -0.]\n",
      " [ 0.  4.  0. -6. -8.]\n",
      " [ 0.  0.  4. -6. -8.]\n",
      " [-0. -6. -6. 18. 24.]\n",
      " [-0. -8. -8. 24. 32.]]\n"
     ]
    }
   ],
   "source": [
    "### START YOUR CODE ###\n",
    "# computar matriz Q com yi*yj*xi ( transposed ) *xj\n",
    "Q = np.zeros((len(X), len(Y)))\n",
    "for i in range(len(X)):\n",
    "    for j in range(len(Y)):\n",
    "        Q[i, j] = Y[i] * Y[j] * np.dot(X[i].transpose(), X[j])\n",
    "\n",
    "### END YOUR CODE ###\n",
    "\n",
    "print('Q = ', Q)"
   ]
  },
  {
   "cell_type": "markdown",
   "metadata": {},
   "source": [
    "### Expected output\n",
    "&nbsp;|&nbsp;\n",
    "--|--\n",
    "**Q =**|[[ 0.  0.  0.  0.  0.] <br>[ 0.  4.  0. -6. -8.] <br> [ 0.  0.  4. -6. -8.] <br> [ 0. -6. -6. 18. 24.] <br> [ 0. -8. -8. 24. 32.]]\n",
    "\n",
    "---\n",
    "## Task 2: Compute inputs for Quadratic Programming and Print them\n",
    "**2 points**\n",
    "\n",
    "Use the formulas: $P=Q$, $q = -(\\textbf{1})^{T}$, $G = -(\\textbf{1})^{T}$, $h=(\\textbf{0})^{T}$, $A=y^T$, $b=(\\textbf{0})^{T}$. Print P,q,G,h,b,A"
   ]
  },
  {
   "cell_type": "code",
   "execution_count": 5,
   "metadata": {},
   "outputs": [
    {
     "name": "stdout",
     "output_type": "stream",
     "text": [
      "P= [[ 0.  0.  0. -0. -0.]\n",
      " [ 0.  4.  0. -6. -8.]\n",
      " [ 0.  0.  4. -6. -8.]\n",
      " [-0. -6. -6. 18. 24.]\n",
      " [-0. -8. -8. 24. 32.]]\n",
      "q =  [[-1.]\n",
      " [-1.]\n",
      " [-1.]\n",
      " [-1.]\n",
      " [-1.]]\n",
      "G =  [[-1. -0. -0. -0. -0.]\n",
      " [-0. -1. -0. -0. -0.]\n",
      " [-0. -0. -1. -0. -0.]\n",
      " [-0. -0. -0. -1. -0.]\n",
      " [-0. -0. -0. -0. -1.]]\n",
      "h =  [[0.]\n",
      " [0.]\n",
      " [0.]\n",
      " [0.]\n",
      " [0.]]\n",
      "b =  [[0.]]\n",
      "A= [[-1. -1. -1.  1.  1.]]\n"
     ]
    }
   ],
   "source": [
    "### START YOUR CODE ###\n",
    "#P = Q\n",
    "P = Q\n",
    "\n",
    "# Hint: Use np.ones(), q is of length 5\n",
    "q = -1*np.ones((5,1))\n",
    "\n",
    "# Hint: G is a matrix whose diagnal elements are 1s, and other elements are 0s. Use np.eye()\n",
    "G = -1*np.eye(5)\n",
    "\n",
    "# Hint: h is of length 5, with all zeros; Use np.zeros()\n",
    "h = np.zeros((5,1))\n",
    "\n",
    "#A = Y.reshape((1,5))\n",
    "A = Y.reshape((1,5))\n",
    "\n",
    "\n",
    "# Hint: b is of length 1, with zero value; Use np.zeros()\n",
    "b = np.zeros((1,1))\n",
    "### END YOUR CODE ###\n",
    "print ('P=',P)\n",
    "print('q = ', q)\n",
    "print('G = ', G)\n",
    "print('h = ', h)\n",
    "print('b = ', b)\n",
    "print ('A=',A)"
   ]
  },
  {
   "cell_type": "markdown",
   "metadata": {},
   "source": [
    "### Expected output\n",
    "<img src=\"A4image1.png\">\n",
    "\n",
    "---\n",
    "\n",
    "## Task 3: Call Quadratic Program Solver\n",
    "**3 point**\n",
    "\n",
    "Print ${\\lambda}^{(i)}$, support_vector indices (indices where $\\lambda^{(i)}>0)$ and support_vectors"
   ]
  },
  {
   "cell_type": "code",
   "execution_count": 6,
   "metadata": {},
   "outputs": [
    {
     "name": "stdout",
     "output_type": "stream",
     "text": [
      "     pcost       dcost       gap    pres   dres\n",
      " 0: -6.1743e-01 -1.1368e+00  9e+00  3e+00  1e+00\n",
      " 1: -1.2620e-01 -7.0499e-01  9e-01  1e-01  6e-02\n",
      " 2: -2.1371e-01 -3.2685e-01  1e-01  6e-17  4e-16\n",
      " 3: -2.4712e-01 -2.5138e-01  4e-03  6e-17  3e-16\n",
      " 4: -2.4997e-01 -2.5001e-01  4e-05  1e-17  1e-16\n",
      " 5: -2.5000e-01 -2.5000e-01  4e-07  3e-17  4e-16\n",
      " 6: -2.5000e-01 -2.5000e-01  4e-09  6e-17  2e-16\n",
      "Optimal solution found.\n",
      "lambdas =  [[2.59450615e-09]\n",
      " [1.24999998e-01]\n",
      " [1.24999998e-01]\n",
      " [2.49999999e-01]\n",
      " [2.90286660e-10]]\n",
      "support_vectors_indices =  [1 2 3]\n",
      "support_vectors =  [[2 0]\n",
      " [0 2]\n",
      " [3 3]]\n"
     ]
    }
   ],
   "source": [
    "### START YOUR CODE ###\n",
    "\n",
    "# Hint: Call solvers.qp with the correct arguments but first convert numpy matrices \n",
    "#into cvxopt matrices using  command like cvx_P = cvxopt.matrix(P)\n",
    "#solution = quadprog_solvers.qp(cvx_P, cvx_q, cvx_G, cvx_h, cvx_A, cvx_b). Use a threshold of 1e-5 to\n",
    "#determine SV lambdas\n",
    "cvx_P = cvxopt.matrix(P)\n",
    "cvx_q = cvxopt.matrix(q)\n",
    "cvx_G = cvxopt.matrix(G)\n",
    "cvx_h = cvxopt.matrix(h)\n",
    "cvx_A = cvxopt.matrix(A)\n",
    "cvx_b = cvxopt.matrix(b)\n",
    "\n",
    "solution = solvers.qp(cvx_P, cvx_q, cvx_G, cvx_h, cvx_A, cvx_b)\n",
    "\n",
    "# how to discover the support vectors\n",
    "threshold = 1e-5\n",
    "lambdas = np.array(solution['x'])\n",
    "support_vectors = np.where(lambdas > threshold)[0]\n",
    "\n",
    "print('lambdas = ', lambdas)\n",
    "print('support_vectors_indices = ', support_vectors)\n",
    "print('support_vectors = ', X[support_vectors])\n",
    "\n",
    "### END YOUR CODE ###\n"
   ]
  },
  {
   "cell_type": "markdown",
   "metadata": {},
   "source": [
    "### Expected output\n",
    "\n",
    "<img src=\"A4image2.png\">\n",
    "\n",
    "## Task 4: Solve the decision boundary\n",
    "**1 points**\n",
    "\n",
    "Use the support vectors to solve the $w$ and $b$ in the decision boundary $w^Tx+b=0$. Use the property that a support vector $x^{(k)}$ must satistify $y^{(k)}(w^Tx^{(k)}+b) = 1$.\n",
    "\n",
    "*Hint*: You should solve the following linear equations:\n",
    "\n",
    "$\\begin{cases} y^{(2)}(w^Tx^{(2)}+b) = 1 \\\\ y^{(3)}(w^Tx^{(3)}+b) = 1 \\\\ y^{(4)}(w^Tx^{(4)}+b) = 1\\end{cases}$\n",
    "\n",
    "Solve using numpy linalg.solve."
   ]
  },
  {
   "cell_type": "code",
   "execution_count": 19,
   "metadata": {},
   "outputs": [
    {
     "name": "stdout",
     "output_type": "stream",
     "text": [
      "w1 =  [0.5]\n",
      "w2 =  [0.5]\n",
      "b =  [[-1.]]\n"
     ]
    }
   ],
   "source": [
    "\n",
    "###START YOUR CODE\n",
    "# solve linear quations : \n",
    "\n",
    "# compute w and b # como encontrar b e w\n",
    "w = np.zeros((2,1))\n",
    "b = 0\n",
    "for i in support_vectors:\n",
    "    w += lambdas[i] * Y[i] * X[i].reshape((2,1))\n",
    "    b += Y[i] - np.dot(w.transpose(), X[i].reshape((2,1)))\n",
    "\n",
    "\n",
    "print('w1 = ', w[0])\n",
    "print('w2 = ', w[1])\n",
    "print('b = ', b/len(support_vectors)) # wrong value\n",
    "###End Your Code"
   ]
  },
  {
   "cell_type": "markdown",
   "metadata": {},
   "source": [
    "## Expected Output\n",
    "\n",
    "w1=0.5\n",
    "\n",
    "w2=0.5\n",
    "\n",
    "b = -2.0\n"
   ]
  },
  {
   "cell_type": "markdown",
   "metadata": {},
   "source": [
    "# Task 5: Use sklearn.svm to obtain Support Vectors Directly\n",
    "**2 points**\n",
    "\n",
    "Use sklearn.svm and print the support vectors and plot the SVM decision boundary"
   ]
  },
  {
   "cell_type": "code",
   "execution_count": 20,
   "metadata": {},
   "outputs": [],
   "source": [
    "#Dont change the code in this cell\n",
    "def plot_decision_boundary(X, classifier, title):\n",
    "    h = .02  # Step size in the mesh\n",
    "    x_min, x_max = X[:, 0].min() - 1, X[:, 0].max() + 1\n",
    "    y_min, y_max = X[:, 1].min() - 1, X[:, 1].max() + 1\n",
    "\n",
    "    xx, yy = np.meshgrid(np.arange(x_min, x_max, h), np.arange(y_min, y_max, h))\n",
    "    Z = classifier.predict(np.c_[xx.ravel(), yy.ravel()])\n",
    "    Z = Z.reshape(xx.shape)\n",
    "    plt.contourf(xx, yy, Z, alpha=0.8, cmap=plt.cm.Paired)\n",
    "    plt.scatter(X[:, 0], X[:, 1], c=Y, edgecolors='k', cmap=plt.cm.Paired)\n",
    "    plt.title(title)\n",
    "    plt.xlabel('X1')\n",
    "    plt.ylabel('X2')\n",
    "    plt.show()"
   ]
  },
  {
   "cell_type": "code",
   "execution_count": 22,
   "metadata": {},
   "outputs": [
    {
     "name": "stdout",
     "output_type": "stream",
     "text": [
      "[[2. 0.]\n",
      " [0. 2.]\n",
      " [3. 3.]]\n"
     ]
    },
    {
     "data": {
      "image/png": "[encoded data removed]",
      "text/plain": [
       "<Figure size 640x480 with 1 Axes>"
      ]
     },
     "metadata": {},
     "output_type": "display_data"
    }
   ],
   "source": [
    "# Import necessary libraries\n",
    "\n",
    "from sklearn.svm import SVC\n",
    "\n",
    "\n",
    "#Begin Code\n",
    "\n",
    "# Initialize the SVM model, \"svm_model\", linear Kernel, Use default value for C=1 \n",
    "svm_model = SVC(kernel='linear', C=1)\n",
    "\n",
    "# Train the SVM model (svm_model) with X and Y and obtain the support_vectors using svm_model.support_vectors_\n",
    "svm_model.fit(X, Y)\n",
    "support_vectors = svm_model.support_vectors_\n",
    "\n",
    "#End Code\n",
    "\n",
    "print (support_vectors)\n",
    "\n",
    "plot_decision_boundary(X, svm_model, 'SVM Decision Boundary')"
   ]
  },
  {
   "cell_type": "markdown",
   "metadata": {},
   "source": [
    "# Expected Result\n",
    "[[2. 0.]<br>\n",
    " [0. 2.]<br>\n",
    " [3. 3.]]\n",
    "<img src=\"A4image3.png\">"
   ]
  },
  {
   "cell_type": "code",
   "execution_count": null,
   "metadata": {},
   "outputs": [],
   "source": []
  }
 ],
 "metadata": {
  "kernelspec": {
   "display_name": "Python 3 (ipykernel)",
   "language": "python",
   "name": "python3"
  },
  "language_info": {
   "codemirror_mode": {
    "name": "ipython",
    "version": 3
   },
   "file_extension": ".py",
   "mimetype": "text/x-python",
   "name": "python",
   "nbconvert_exporter": "python",
   "pygments_lexer": "ipython3",
   "version": "3.11.5"
  }
 },
 "nbformat": 4,
 "nbformat_minor": 4
}
